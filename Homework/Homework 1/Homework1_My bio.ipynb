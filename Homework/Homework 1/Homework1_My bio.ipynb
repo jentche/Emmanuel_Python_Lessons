{
 "cells": [
  {
   "cell_type": "markdown",
   "metadata": {},
   "source": [
    "# Homework 1\n",
    "> **For this exercise, I will be creating a dictionary that identifies my name, major, motivation for taking ECON 611 python class, and my plans after I graduate from NDSU. I will also transform the dictionary into a dataframe, then I'll save the dataframe as a CSV**"
   ]
  },
  {
   "cell_type": "markdown",
   "metadata": {},
   "source": [
    "1. ### Creating a dictionary"
   ]
  },
  {
   "cell_type": "code",
   "execution_count": 2,
   "metadata": {},
   "outputs": [
    {
     "data": {
      "text/plain": [
       "({'Name': 'Emmanuel Jinor',\n",
       "  'Major': 'MS in Business Analytics',\n",
       "  'Motivation for taking ECON 611': 'I love data analytics and python is a common and fun tool to query data',\n",
       "  'Plans after Graduation': 'My goal is to get a job either as a business analyst or as a Human Resources Information Systems (HRIS) analyst'},)"
      ]
     },
     "execution_count": 2,
     "metadata": {},
     "output_type": "execute_result"
    }
   ],
   "source": [
    "Bio = {\"Name\": \"Emmanuel Jinor\",\n",
    "          \"Major\": \"MS in Business Analytics\",\n",
    "          \"Motivation for taking ECON 611\": \"I love data analytics and python is a common and fun tool to query data\",\n",
    "         \"Plans after Graduation\": \"My goal is to get a job either as a business analyst or as a Human Resources Information Systems (HRIS) analyst\"},\n",
    "        \n",
    "Bio"
   ]
  },
  {
   "cell_type": "markdown",
   "metadata": {},
   "source": [
    "2. ### Now, I'll create a dataframe "
   ]
  },
  {
   "cell_type": "code",
   "execution_count": 3,
   "metadata": {},
   "outputs": [
    {
     "data": {
      "text/html": [
       "<div>\n",
       "<style scoped>\n",
       "    .dataframe tbody tr th:only-of-type {\n",
       "        vertical-align: middle;\n",
       "    }\n",
       "\n",
       "    .dataframe tbody tr th {\n",
       "        vertical-align: top;\n",
       "    }\n",
       "\n",
       "    .dataframe thead th {\n",
       "        text-align: right;\n",
       "    }\n",
       "</style>\n",
       "<table border=\"1\" class=\"dataframe\">\n",
       "  <thead>\n",
       "    <tr style=\"text-align: right;\">\n",
       "      <th></th>\n",
       "      <th>Name</th>\n",
       "      <th>Major</th>\n",
       "      <th>Motivation for taking ECON 611</th>\n",
       "      <th>Plans after Graduation</th>\n",
       "    </tr>\n",
       "  </thead>\n",
       "  <tbody>\n",
       "    <tr>\n",
       "      <th>0</th>\n",
       "      <td>Emmanuel Jinor</td>\n",
       "      <td>MS in Business Analytics</td>\n",
       "      <td>I love data analytics and python is a common a...</td>\n",
       "      <td>My goal is to get a job either as a business a...</td>\n",
       "    </tr>\n",
       "  </tbody>\n",
       "</table>\n",
       "</div>"
      ],
      "text/plain": [
       "             Name                     Major  \\\n",
       "0  Emmanuel Jinor  MS in Business Analytics   \n",
       "\n",
       "                      Motivation for taking ECON 611  \\\n",
       "0  I love data analytics and python is a common a...   \n",
       "\n",
       "                              Plans after Graduation  \n",
       "0  My goal is to get a job either as a business a...  "
      ]
     },
     "execution_count": 3,
     "metadata": {},
     "output_type": "execute_result"
    }
   ],
   "source": [
    "import pandas as pd\n",
    "dft = pd.DataFrame(Bio)\n",
    "dft"
   ]
  },
  {
   "cell_type": "markdown",
   "metadata": {},
   "source": [
    "3. ### Now I'll save this dictionary as a dataframe"
   ]
  },
  {
   "cell_type": "code",
   "execution_count": 4,
   "metadata": {},
   "outputs": [],
   "source": [
    "dft = pd.DataFrame(Bio)\n",
    "dft.to_csv(\"Emmanueljinorinfo.CSV\")"
   ]
  },
  {
   "cell_type": "markdown",
   "metadata": {},
   "source": [
    "# Part 2\n",
    "> For part 2, I'll create a dictionary for 10 professionals or specialists that I admire. The dictionary should include keys that identify teh name of the professional, their area of expertise, a short biography, and a link to their website (or social media profile if a website isn't available). I'll print and save the dataframe as a csv\n",
    "\n",
    "> Trick I learned which makes creating dictionaries easy: use { } to create the key or attribute (or row) and use [ ] to created a record for the attribute (column)"
   ]
  },
  {
   "cell_type": "code",
   "execution_count": 55,
   "metadata": {},
   "outputs": [
    {
     "data": {
      "text/plain": [
       "{'Name': ['Andrew Wommack',\n",
       "  'Aliko Dangote',\n",
       "  'Barrack Obama',\n",
       "  'Charlie H Campbell',\n",
       "  'Daniel Gorden',\n",
       "  'Fred Riggins',\n",
       "  'Jeff Bezos',\n",
       "  'Jennifer Berg',\n",
       "  'John Maxwell',\n",
       "  'Myles Monroe'],\n",
       " 'Area of expertise': ['Evangelist',\n",
       "  'Entrepreneur',\n",
       "  'Former president, politician and attorney',\n",
       "  'Archeologist',\n",
       "  'Professor/HR leader',\n",
       "  'Professor',\n",
       "  'Entrepreneur',\n",
       "  'HR leader',\n",
       "  'Author, speaker & pastor',\n",
       "  'Author, speaker & leadership consultant'],\n",
       " 'Biograghy': ['American conservative charismatic TV evangelist and faith healer. He founded Andrew Wommack Ministries in 1978 and Charis Bible College in 1994.',\n",
       "  'Aliko Dangote GCON is a Nigerian billionaire businessman, who is the founder and chairman of Dangote Group, an industrial conglomerate in Africa. He has an estimated net worth of US$8.3 billion, making him the 162nd wealthiest person in the world and the richest person in Africa.',\n",
       "  'Barack Hussein Obama II is an American politician and attorney who served as the 44th president of the United States from 2009 to 2017. A member of the Democratic Party, Obama was the first African-American president of the United States.',\n",
       "  'Charlie Campbell is the Founder and Director of the Always Be Ready Apologetics Ministry (AlwaysBeReady.com), an author, and a popular guest teacher at churches and conferences around North America where he addresses numerous issues related to the defense of the Christian faith.',\n",
       "  'Assistant Director/Lecturer at Rensselaer Polytechnic Institute',\n",
       "  'Professor of Management Information Systems and Director of the Center for Enterprise Business Analytics',\n",
       "  'Jeffrey Preston Bezos is an American internet entrepreneur, industrialist, media proprietor, and investor. He is best known as the founder, CEO, and president of the multi-national technology company Amazon.',\n",
       "  'Manager, Compensation & Benefits at Altru Hospital',\n",
       "  'American author, speaker, and pastor who has written many books, primarily focusing on leadership.',\n",
       "  'Bahamian evangelist and ordained minister avid professor of the Kingdom of God, author, speaker and leadership consultant who founded and led the Bahamas Faith Ministries International and Myles Munroe International.'],\n",
       " 'Website': ['www.awmi.net/',\n",
       "  'www.dangote.com/',\n",
       "  'barackobama.com/',\n",
       "  'AlwaysBeReady.com',\n",
       "  'https://www.linkedin.com/in/dan-gordon-a2156037/',\n",
       "  'https://www.ndsu.edu/business/our_people/directory/friggins/',\n",
       "  'www.bezosexpeditions.com/',\n",
       "  'NA',\n",
       "  'www.johnmaxwell.com/',\n",
       "  'www.munroeglobal.com/']}"
      ]
     },
     "execution_count": 55,
     "metadata": {},
     "output_type": "execute_result"
    }
   ],
   "source": [
    "prf = {\"Name\":[\"Andrew Wommack\", \"Aliko Dangote\",\"Barrack Obama\",\"Charlie H Campbell\",\"Daniel Gorden\",\"Fred Riggins\",\"Jeff Bezos\",\"Jennifer Berg\",\"John Maxwell\",\"Myles Monroe\"],\n",
    "       \"Area of expertise\":[\"Evangelist\", \"Entrepreneur\",\"Former president, politician and attorney\",\"Archeologist\",\"Professor/HR leader\",\"Professor\",\"Entrepreneur\",\"HR leader\",\"Author, speaker & pastor\", \"Author, speaker & leadership consultant\"],\n",
    "       \"Biograghy\":[\"American conservative charismatic TV evangelist and faith healer. He founded Andrew Wommack Ministries in 1978 and Charis Bible College in 1994.\",\"Aliko Dangote GCON is a Nigerian billionaire businessman, who is the founder and chairman of Dangote Group, an industrial conglomerate in Africa. He has an estimated net worth of US$8.3 billion, making him the 162nd wealthiest person in the world and the richest person in Africa.\",\"Barack Hussein Obama II is an American politician and attorney who served as the 44th president of the United States from 2009 to 2017. A member of the Democratic Party, Obama was the first African-American president of the United States.\",\"Charlie Campbell is the Founder and Director of the Always Be Ready Apologetics Ministry (AlwaysBeReady.com), an author, and a popular guest teacher at churches and conferences around North America where he addresses numerous issues related to the defense of the Christian faith.\",\"Assistant Director/Lecturer at Rensselaer Polytechnic Institute\",\"Professor of Management Information Systems and Director of the Center for Enterprise Business Analytics\",\"Jeffrey Preston Bezos is an American internet entrepreneur, industrialist, media proprietor, and investor. He is best known as the founder, CEO, and president of the multi-national technology company Amazon.\",\"Manager, Compensation & Benefits at Altru Hospital\",\"American author, speaker, and pastor who has written many books, primarily focusing on leadership.\",\"Bahamian evangelist and ordained minister avid professor of the Kingdom of God, author, speaker and leadership consultant who founded and led the Bahamas Faith Ministries International and Myles Munroe International.\"],\n",
    "       \"Website\":[\"www.awmi.net/\",\"www.dangote.com/\",\"barackobama.com/\",\"AlwaysBeReady.com\",\"https://www.linkedin.com/in/dan-gordon-a2156037/\",\"https://www.ndsu.edu/business/our_people/directory/friggins/\",\"www.bezosexpeditions.com/\",\"NA\",\"www.johnmaxwell.com/\",\"www.munroeglobal.com/\"]}\n",
    "prf"
   ]
  },
  {
   "cell_type": "markdown",
   "metadata": {},
   "source": [
    "> create a data frame and assigning an index (record numbering). Row numbers will begin with 0,1,2, etc but using the index syntax, we can change the formate of the row number. So, now the row numbers can start with 1 rather than 0. Instead of using numbers, we can index the rows using letters, customized names, etc."
   ]
  },
  {
   "cell_type": "code",
   "execution_count": 58,
   "metadata": {},
   "outputs": [
    {
     "data": {
      "text/html": [
       "<div>\n",
       "<style scoped>\n",
       "    .dataframe tbody tr th:only-of-type {\n",
       "        vertical-align: middle;\n",
       "    }\n",
       "\n",
       "    .dataframe tbody tr th {\n",
       "        vertical-align: top;\n",
       "    }\n",
       "\n",
       "    .dataframe thead th {\n",
       "        text-align: right;\n",
       "    }\n",
       "</style>\n",
       "<table border=\"1\" class=\"dataframe\">\n",
       "  <thead>\n",
       "    <tr style=\"text-align: right;\">\n",
       "      <th></th>\n",
       "      <th>Name</th>\n",
       "      <th>Area of expertise</th>\n",
       "      <th>Biograghy</th>\n",
       "      <th>Website</th>\n",
       "    </tr>\n",
       "  </thead>\n",
       "  <tbody>\n",
       "    <tr>\n",
       "      <th>1</th>\n",
       "      <td>Andrew Wommack</td>\n",
       "      <td>Evangelist</td>\n",
       "      <td>American conservative charismatic TV evangelis...</td>\n",
       "      <td>www.awmi.net/</td>\n",
       "    </tr>\n",
       "    <tr>\n",
       "      <th>2</th>\n",
       "      <td>Aliko Dangote</td>\n",
       "      <td>Entrepreneur</td>\n",
       "      <td>Aliko Dangote GCON is a Nigerian billionaire b...</td>\n",
       "      <td>www.dangote.com/</td>\n",
       "    </tr>\n",
       "    <tr>\n",
       "      <th>3</th>\n",
       "      <td>Barrack Obama</td>\n",
       "      <td>Former president, politician and attorney</td>\n",
       "      <td>Barack Hussein Obama II is an American politic...</td>\n",
       "      <td>barackobama.com/</td>\n",
       "    </tr>\n",
       "    <tr>\n",
       "      <th>4</th>\n",
       "      <td>Charlie H Campbell</td>\n",
       "      <td>Archeologist</td>\n",
       "      <td>Charlie Campbell is the Founder and Director o...</td>\n",
       "      <td>AlwaysBeReady.com</td>\n",
       "    </tr>\n",
       "    <tr>\n",
       "      <th>5</th>\n",
       "      <td>Daniel Gorden</td>\n",
       "      <td>Professor/HR leader</td>\n",
       "      <td>Assistant Director/Lecturer at Rensselaer Poly...</td>\n",
       "      <td>https://www.linkedin.com/in/dan-gordon-a2156037/</td>\n",
       "    </tr>\n",
       "    <tr>\n",
       "      <th>6</th>\n",
       "      <td>Fred Riggins</td>\n",
       "      <td>Professor</td>\n",
       "      <td>Professor of Management Information Systems an...</td>\n",
       "      <td>https://www.ndsu.edu/business/our_people/direc...</td>\n",
       "    </tr>\n",
       "    <tr>\n",
       "      <th>7</th>\n",
       "      <td>Jeff Bezos</td>\n",
       "      <td>Entrepreneur</td>\n",
       "      <td>Jeffrey Preston Bezos is an American internet ...</td>\n",
       "      <td>www.bezosexpeditions.com/</td>\n",
       "    </tr>\n",
       "    <tr>\n",
       "      <th>8</th>\n",
       "      <td>Jennifer Berg</td>\n",
       "      <td>HR leader</td>\n",
       "      <td>Manager, Compensation &amp; Benefits at Altru Hosp...</td>\n",
       "      <td>NA</td>\n",
       "    </tr>\n",
       "    <tr>\n",
       "      <th>9</th>\n",
       "      <td>John Maxwell</td>\n",
       "      <td>Author, speaker &amp; pastor</td>\n",
       "      <td>American author, speaker, and pastor who has w...</td>\n",
       "      <td>www.johnmaxwell.com/</td>\n",
       "    </tr>\n",
       "    <tr>\n",
       "      <th>10</th>\n",
       "      <td>Myles Monroe</td>\n",
       "      <td>Author, speaker &amp; leadership consultant</td>\n",
       "      <td>Bahamian evangelist and ordained minister avid...</td>\n",
       "      <td>www.munroeglobal.com/</td>\n",
       "    </tr>\n",
       "  </tbody>\n",
       "</table>\n",
       "</div>"
      ],
      "text/plain": [
       "                  Name                          Area of expertise  \\\n",
       "1       Andrew Wommack                                 Evangelist   \n",
       "2        Aliko Dangote                               Entrepreneur   \n",
       "3        Barrack Obama  Former president, politician and attorney   \n",
       "4   Charlie H Campbell                               Archeologist   \n",
       "5        Daniel Gorden                        Professor/HR leader   \n",
       "6         Fred Riggins                                  Professor   \n",
       "7           Jeff Bezos                               Entrepreneur   \n",
       "8        Jennifer Berg                                  HR leader   \n",
       "9         John Maxwell                   Author, speaker & pastor   \n",
       "10        Myles Monroe    Author, speaker & leadership consultant   \n",
       "\n",
       "                                            Biograghy  \\\n",
       "1   American conservative charismatic TV evangelis...   \n",
       "2   Aliko Dangote GCON is a Nigerian billionaire b...   \n",
       "3   Barack Hussein Obama II is an American politic...   \n",
       "4   Charlie Campbell is the Founder and Director o...   \n",
       "5   Assistant Director/Lecturer at Rensselaer Poly...   \n",
       "6   Professor of Management Information Systems an...   \n",
       "7   Jeffrey Preston Bezos is an American internet ...   \n",
       "8   Manager, Compensation & Benefits at Altru Hosp...   \n",
       "9   American author, speaker, and pastor who has w...   \n",
       "10  Bahamian evangelist and ordained minister avid...   \n",
       "\n",
       "                                              Website  \n",
       "1                                       www.awmi.net/  \n",
       "2                                    www.dangote.com/  \n",
       "3                                    barackobama.com/  \n",
       "4                                   AlwaysBeReady.com  \n",
       "5    https://www.linkedin.com/in/dan-gordon-a2156037/  \n",
       "6   https://www.ndsu.edu/business/our_people/direc...  \n",
       "7                           www.bezosexpeditions.com/  \n",
       "8                                                  NA  \n",
       "9                                www.johnmaxwell.com/  \n",
       "10                              www.munroeglobal.com/  "
      ]
     },
     "execution_count": 58,
     "metadata": {},
     "output_type": "execute_result"
    }
   ],
   "source": [
    "import pandas as pd\n",
    "prf_df = pd.DataFrame(prf, index = [1,2,3,4,5,6,7,8,9,10])\n",
    "prf_df"
   ]
  },
  {
   "cell_type": "markdown",
   "metadata": {},
   "source": [
    "> Now I'll save the dataframe as a .csv file"
   ]
  },
  {
   "cell_type": "code",
   "execution_count": 60,
   "metadata": {},
   "outputs": [],
   "source": [
    "prf_df.to_csv(\"professionalsiadmire.csv\")\n"
   ]
  },
  {
   "cell_type": "code",
   "execution_count": null,
   "metadata": {},
   "outputs": [],
   "source": []
  }
 ],
 "metadata": {
  "kernelspec": {
   "display_name": "Python 3",
   "language": "python",
   "name": "python3"
  },
  "language_info": {
   "codemirror_mode": {
    "name": "ipython",
    "version": 3
   },
   "file_extension": ".py",
   "mimetype": "text/x-python",
   "name": "python",
   "nbconvert_exporter": "python",
   "pygments_lexer": "ipython3",
   "version": "3.8.3"
  }
 },
 "nbformat": 4,
 "nbformat_minor": 4
}

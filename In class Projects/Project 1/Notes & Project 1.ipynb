{
 "cells": [
  {
   "cell_type": "markdown",
   "metadata": {},
   "source": [
    "# Notes & Project 1\n",
    "> ### This is my Jupyter Notebook practice run. I should be able to complete Project 1 after this practice run."
   ]
  },
  {
   "cell_type": "code",
   "execution_count": 1,
   "metadata": {},
   "outputs": [
    {
     "name": "stdout",
     "output_type": "stream",
     "text": [
      "Emmanuel\n"
     ]
    }
   ],
   "source": [
    "name = \"Emmanuel\"\n",
    "print (name)"
   ]
  },
  {
   "cell_type": "code",
   "execution_count": 2,
   "metadata": {},
   "outputs": [
    {
     "name": "stdout",
     "output_type": "stream",
     "text": [
      "ECON 611\n"
     ]
    }
   ],
   "source": [
    "Course = \"ECON 611\"\n",
    "print (Course)"
   ]
  },
  {
   "cell_type": "markdown",
   "metadata": {},
   "source": [
    "## Dictionary\n",
    "> **This is some practice on creating a dictinary using Jupyter**"
   ]
  },
  {
   "cell_type": "markdown",
   "metadata": {},
   "source": [
    "### Definition/Introduction:\n",
    "> **What is a dictionary?** In Python, a dictionary can be defined as a data structure that stores data values that can be linked to or paired to information about people, places or things, or the data it represents. Data values can be integers, strings, dataframes, etc.  \n",
    "\n",
    "> **Where do I get information to create my dictionary?** Information can be gotten from a website, a table, excel spreadsheets or a database, a piece of paper, literally any place where data is stored. \n",
    "\n",
    "Let's take a look at a simple example of a dictionary below:"
   ]
  },
  {
   "cell_type": "code",
   "execution_count": 5,
   "metadata": {},
   "outputs": [
    {
     "name": "stdout",
     "output_type": "stream",
     "text": [
      "{'name': 'Emmanuel'}\n"
     ]
    }
   ],
   "source": [
    "dct = {\"name\": \"Emmanuel\"}\n",
    "print (dct)\n"
   ]
  },
  {
   "cell_type": "markdown",
   "metadata": {},
   "source": [
    "**Now, let's try to create a dictionary with multiple names rather than just one name**"
   ]
  },
  {
   "cell_type": "code",
   "execution_count": 8,
   "metadata": {},
   "outputs": [
    {
     "name": "stdout",
     "output_type": "stream",
     "text": [
      "['Tyler', 'Emmanuel', 'Amanda', 'Logan', 'Conor', 'Dylan', 'Gwen', 'Jack', 'James']\n"
     ]
    }
   ],
   "source": [
    "dct = {\"names\": [\"Tyler\", \"Emmanuel\", \n",
    "                 \"Amanda\", \"Logan\", \n",
    "                 \"Conor\", \"Dylan\", \n",
    "                 \"Gwen\", \"Jack\", \n",
    "                 \"James\"]}\n",
    "print (dct[\"names\"])"
   ]
  },
  {
   "cell_type": "markdown",
   "metadata": {},
   "source": [
    "**Let's create a dictionary with more information about my classmates**"
   ]
  },
  {
   "cell_type": "code",
   "execution_count": 2,
   "metadata": {},
   "outputs": [
    {
     "name": "stdout",
     "output_type": "stream",
     "text": [
      "{'Tyler': {'Age': 21, 'Interesting Fact': 'I am left-handed / ambidextrious!'}, 'Emmanuel': {'Age': 32, 'Interesting Fact': \"I have 7 degrees!!! and I'm earning the M.S. Business Analytics\"}, 'Amanda': {'Age': 'NA', 'Interesting Fact': 'NA'}, 'Logan': {'Age': 22, 'Interesting Fact': 'I fight fires!'}, 'Connor': {'Age': 21, 'Interesting Fact': 'I like to play tennis!'}, 'Dylan': {'Age': 21, 'Interesting Fact': 'I am a triplet!'}, 'Gwen': {'Age': 23, 'Interesting Fact': 'I bought my first cow when I was 10 years old!'}, 'Jack': {'Age': 21, 'Interesting Fact': 'I have never broken a bone!'}, 'Ben': {'Age': 23, 'Interesting Fact': 'I like basketball!'}, 'James': {'Age': 26, 'Interesting Fact': 'I am from Bejou!'}}\n"
     ]
    }
   ],
   "source": [
    "dct = {\"Tyler\": {},\n",
    "        \"Emmanuel\": {},\n",
    "        \"Amanda\": {}, \n",
    "        \"Logan\": {}, \n",
    "        \"Connor\": {}, \n",
    "        \"Dylan\": {}, \n",
    "        \"Gwen\": {}, \n",
    "        \"Jack\": {},\n",
    "        \"Ben\": {},\n",
    "        \"James\": {}}\n",
    "\n",
    "dct [\"Tyler\"] [\"Age\"] = 21\n",
    "dct [\"Tyler\"] [\"Interesting Fact\"] = \"I am left-handed / ambidextrious!\"\n",
    "dct [\"Emmanuel\"] [\"Age\"] = 32\n",
    "dct [\"Emmanuel\"] [\"Interesting Fact\"] = \"I have 7 degrees!!! and I'm earning the M.S. Business Analytics\"\n",
    "dct [\"Dylan\"] [\"Age\"] = 21\n",
    "dct [\"Dylan\"] [\"Interesting Fact\"] = \"I am a triplet!\"\n",
    "dct [\"Jack\"] [\"Age\"] = 21\n",
    "dct [\"Jack\"] [\"Interesting Fact\"] = \"I have never broken a bone!\"\n",
    "dct [\"Logan\"] [\"Age\"] = 22\n",
    "dct [\"Logan\"] [\"Interesting Fact\"] = \"I fight fires!\"\n",
    "dct [\"Gwen\"] [\"Age\"] = 23\n",
    "dct [\"Gwen\"] [\"Interesting Fact\"] = \"I bought my first cow when I was 10 years old!\"\n",
    "dct [\"James\"] [\"Age\"] = 26\n",
    "dct [\"James\"] [\"Interesting Fact\"] = \"I am from Bejou!\"\n",
    "dct [\"Ben\"] [\"Age\"] = 23\n",
    "dct [\"Ben\"] [\"Interesting Fact\"] = \"I like basketball!\"\n",
    "dct [\"Connor\"] [\"Age\"] = 21\n",
    "dct [\"Connor\"] [\"Interesting Fact\"] = \"I like to play tennis!\"\n",
    "dct [\"Amanda\"] [\"Age\"] = \"NA\"\n",
    "dct [\"Amanda\"] [\"Interesting Fact\"] = \"NA\"\n",
    "\n",
    "\n",
    "print (dct)"
   ]
  },
  {
   "cell_type": "markdown",
   "metadata": {},
   "source": [
    "**Now we'll use a command known as \"import pandas\" to add more structure to the dictionary**"
   ]
  },
  {
   "cell_type": "code",
   "execution_count": 3,
   "metadata": {},
   "outputs": [
    {
     "data": {
      "text/html": [
       "<div>\n",
       "<style scoped>\n",
       "    .dataframe tbody tr th:only-of-type {\n",
       "        vertical-align: middle;\n",
       "    }\n",
       "\n",
       "    .dataframe tbody tr th {\n",
       "        vertical-align: top;\n",
       "    }\n",
       "\n",
       "    .dataframe thead th {\n",
       "        text-align: right;\n",
       "    }\n",
       "</style>\n",
       "<table border=\"1\" class=\"dataframe\">\n",
       "  <thead>\n",
       "    <tr style=\"text-align: right;\">\n",
       "      <th></th>\n",
       "      <th>Tyler</th>\n",
       "      <th>Emmanuel</th>\n",
       "      <th>Amanda</th>\n",
       "      <th>Logan</th>\n",
       "      <th>Connor</th>\n",
       "      <th>Dylan</th>\n",
       "      <th>Gwen</th>\n",
       "      <th>Jack</th>\n",
       "      <th>Ben</th>\n",
       "      <th>James</th>\n",
       "    </tr>\n",
       "  </thead>\n",
       "  <tbody>\n",
       "    <tr>\n",
       "      <th>Age</th>\n",
       "      <td>21</td>\n",
       "      <td>32</td>\n",
       "      <td>NA</td>\n",
       "      <td>22</td>\n",
       "      <td>21</td>\n",
       "      <td>21</td>\n",
       "      <td>23</td>\n",
       "      <td>21</td>\n",
       "      <td>23</td>\n",
       "      <td>26</td>\n",
       "    </tr>\n",
       "    <tr>\n",
       "      <th>Interesting Fact</th>\n",
       "      <td>I am left-handed / ambidextrious!</td>\n",
       "      <td>I have 7 degrees!!! and I'm earning the M.S. B...</td>\n",
       "      <td>NA</td>\n",
       "      <td>I fight fires!</td>\n",
       "      <td>I like to play tennis!</td>\n",
       "      <td>I am a triplet!</td>\n",
       "      <td>I bought my first cow when I was 10 years old!</td>\n",
       "      <td>I have never broken a bone!</td>\n",
       "      <td>I like basketball!</td>\n",
       "      <td>I am from Bejou!</td>\n",
       "    </tr>\n",
       "  </tbody>\n",
       "</table>\n",
       "</div>"
      ],
      "text/plain": [
       "                                              Tyler  \\\n",
       "Age                                              21   \n",
       "Interesting Fact  I am left-handed / ambidextrious!   \n",
       "\n",
       "                                                           Emmanuel Amanda  \\\n",
       "Age                                                              32     NA   \n",
       "Interesting Fact  I have 7 degrees!!! and I'm earning the M.S. B...     NA   \n",
       "\n",
       "                           Logan                  Connor            Dylan  \\\n",
       "Age                           22                      21               21   \n",
       "Interesting Fact  I fight fires!  I like to play tennis!  I am a triplet!   \n",
       "\n",
       "                                                            Gwen  \\\n",
       "Age                                                           23   \n",
       "Interesting Fact  I bought my first cow when I was 10 years old!   \n",
       "\n",
       "                                         Jack                 Ben  \\\n",
       "Age                                        21                  23   \n",
       "Interesting Fact  I have never broken a bone!  I like basketball!   \n",
       "\n",
       "                             James  \n",
       "Age                             26  \n",
       "Interesting Fact  I am from Bejou!  "
      ]
     },
     "execution_count": 3,
     "metadata": {},
     "output_type": "execute_result"
    }
   ],
   "source": [
    "import pandas as pd\n",
    "df = pd.DataFrame (dct)\n",
    "df"
   ]
  },
  {
   "cell_type": "markdown",
   "metadata": {},
   "source": [
    "## Dictionaries - Other examples of\n",
    "> **Now, let's create a dictionary containing words and their definitions**"
   ]
  },
  {
   "cell_type": "code",
   "execution_count": 10,
   "metadata": {},
   "outputs": [
    {
     "data": {
      "text/plain": [
       "{'Run': 'To move quickly by foot; faster than a walk and never having both feet on the ground at the same time',\n",
       " 'Walk': 'To move leasurely and at a slow pace; slower than a run, by foot'}"
      ]
     },
     "execution_count": 10,
     "metadata": {},
     "output_type": "execute_result"
    }
   ],
   "source": [
    "dct = {}\n",
    "dct = {\"Run\": \"To move quickly by foot; faster than a walk and never having both feet on the ground at the same time\",\n",
    "      \"Walk\": \"To move leasurely and at a slow pace; slower than a run, by foot\"}\n",
    "dct"
   ]
  },
  {
   "cell_type": "markdown",
   "metadata": {},
   "source": [
    "**You can use dictionaries to include multiple definitions for each word.** \n",
    "> 1. Let's create a new new dictionary for each entry"
   ]
  },
  {
   "cell_type": "code",
   "execution_count": 12,
   "metadata": {},
   "outputs": [
    {
     "data": {
      "text/plain": [
       "{'Run': {}, 'Walk': {}}"
      ]
     },
     "execution_count": 12,
     "metadata": {},
     "output_type": "execute_result"
    }
   ],
   "source": [
    "dct = {\"Run\": {},\n",
    "      \"Walk\": {}}\n",
    "dct\n"
   ]
  },
  {
   "cell_type": "markdown",
   "metadata": {},
   "source": [
    "> 2. Now we'll include multiple definitions for each word "
   ]
  },
  {
   "cell_type": "code",
   "execution_count": 14,
   "metadata": {},
   "outputs": [
    {
     "data": {
      "text/plain": [
       "{'Run': {'Verb': 'To move swiftly by foot or cause something to move quickly in a particular direction',\n",
       "  'Noun': 'An act running or a route taken by a vehicle or an aircraft on a regular basis'},\n",
       " 'Walk': {'Verb': 'To move slowly or to accompany someone by foot',\n",
       "  'Noun': 'An act of traveling or an excursion by foot'}}"
      ]
     },
     "execution_count": 14,
     "metadata": {},
     "output_type": "execute_result"
    }
   ],
   "source": [
    "dct = {\"Run\": {\"Verb\": \"To move swiftly by foot or cause something to move quickly in a particular direction\",\n",
    "               \"Noun\": \"An act running or a route taken by a vehicle or an aircraft on a regular basis\"},\n",
    "      \"Walk\": {\"Verb\": \"To move slowly or to accompany someone by foot\",\n",
    "               \"Noun\": \"An act of traveling or an excursion by foot\"}}\n",
    "dct\n"
   ]
  },
  {
   "cell_type": "markdown",
   "metadata": {},
   "source": [
    "__Since teh second layer of keys in each dictionary is the same (Noun and Verb), the dataframe will automatically index the rows as \"Noun\" and \"verb\".__ "
   ]
  },
  {
   "cell_type": "code",
   "execution_count": 19,
   "metadata": {},
   "outputs": [
    {
     "data": {
      "text/html": [
       "<div>\n",
       "<style scoped>\n",
       "    .dataframe tbody tr th:only-of-type {\n",
       "        vertical-align: middle;\n",
       "    }\n",
       "\n",
       "    .dataframe tbody tr th {\n",
       "        vertical-align: top;\n",
       "    }\n",
       "\n",
       "    .dataframe thead th {\n",
       "        text-align: right;\n",
       "    }\n",
       "</style>\n",
       "<table border=\"1\" class=\"dataframe\">\n",
       "  <thead>\n",
       "    <tr style=\"text-align: right;\">\n",
       "      <th></th>\n",
       "      <th>Run</th>\n",
       "      <th>Walk</th>\n",
       "    </tr>\n",
       "  </thead>\n",
       "  <tbody>\n",
       "    <tr>\n",
       "      <th>Verb</th>\n",
       "      <td>To move swiftly by foot or cause something to ...</td>\n",
       "      <td>To move slowly or to accompany someone by foot</td>\n",
       "    </tr>\n",
       "    <tr>\n",
       "      <th>Noun</th>\n",
       "      <td>An act running or a route taken by a vehicle o...</td>\n",
       "      <td>An act of traveling or an excursion by foot</td>\n",
       "    </tr>\n",
       "  </tbody>\n",
       "</table>\n",
       "</div>"
      ],
      "text/plain": [
       "                                                    Run  \\\n",
       "Verb  To move swiftly by foot or cause something to ...   \n",
       "Noun  An act running or a route taken by a vehicle o...   \n",
       "\n",
       "                                                Walk  \n",
       "Verb  To move slowly or to accompany someone by foot  \n",
       "Noun     An act of traveling or an excursion by foot  "
      ]
     },
     "execution_count": 19,
     "metadata": {},
     "output_type": "execute_result"
    }
   ],
   "source": [
    "import pandas as pd\n",
    "df = pd.DataFrame(dct)\n",
    "df"
   ]
  },
  {
   "cell_type": "markdown",
   "metadata": {},
   "source": [
    "# Project One: Creating a dataframe for professors in the AGEC department"
   ]
  },
  {
   "cell_type": "code",
   "execution_count": 32,
   "metadata": {},
   "outputs": [
    {
     "data": {
      "text/plain": [
       "{'William Nganje': {'Website': 'https://www.ndsu.edu/agecon/faculty/william_nganje/#c622350',\n",
       "  'Areas of Specialization': 'Risk management; financial analysis; economics of obesity, food safety and food terrorism; experimental economics; and consumer choice theory',\n",
       "  'Bio': 'NA'},\n",
       " 'David Bulluck': {'Website': 'https://www.ndsu.edu/agecon/faculty/bullock/#c622728',\n",
       "  'Areas of Specialization': 'futures and options markets, over-the-counter derivatives, trading, risk management, agrifinance, Monte Carlo simulation, and Big Data',\n",
       "  'Bio': 'Dr. David W. Bullock is a Research Associate Professor affiliated with the Center for Trading and Risk at NDSU.  His research interests include futures and options markets, over-the-counter derivatives, trading, risk management, agrifinance, Monte Carlo simulation, and Big Data applications in agriculture.  His academic research in option portfolio theory has been published in both the Journal of Economics and Business and the International Review of Economics and Finance.  Additionally, he was the primary contributor behind the AgriBank Insights publication series which won a National AgriMarketing Association (NAMA) award for the best company publication in 2016. Before coming to NDSU in January 2018, Dr. Bullock held numerous positions for over 25 years in the government and private sectors including the Senior Economist at AgriBank FCB – the regional Farm Credit System funding bank for the Upper Midwest region, Director of Research and Senior Foods Economist at Fortune 500 commodity risk management firm INTL FCStone Inc., the Senior Dairy Analyst at Informa Economics, a Risk Management Specialist with the Minnesota Department of Agriculture, and the Senior Economist at the Minneapolis Grain Exchange. David began his academic career as an Assistant Professor and Extension Marketing Economist at Montana State University after graduating from Iowa State University with a Ph.D. in agricultural economics with fields in agricultural price analysis and econometrics in 1989.  Prior to entering ISU, he received bachelor’s (1982) and master’s (1984) degrees in agricultural economics from Northwest Missouri State University. Dr. Bullock is originally from the small northwestern Missouri farming community of Lathrop which is located 40 miles north of the Kansas City metropolitan area.  While in high school, he served as a regional state Vice-President in the Future Farmers of America (FFA) during his senior year.'},\n",
       " 'James Caton': {'Website': 'https://www.ndsu.edu/centers/pcpe/about/directory/james_caton/',\n",
       "  'Areas of Specialization': 'He specializes in research related to entrepreneurship, agent-based computational economics, market process theory, and monetary economics',\n",
       "  'Bio': 'He is a faculty fellow at the NDSU Center for the Study of Public Choice and Private Enterprise (PCPE) and an assistant professor in the NDSU Department of Agribusiness and Applied Economics. He teaches undergraduate courses in the areas of macroeconomics, international trade, and computation.'},\n",
       " 'David Englund': {'Website': 'https://www.ndsu.edu/agecon/faculty/englund/#c622903',\n",
       "  'Areas of Specialization': 'Teaches Economic Principles, Led NDSU NAMA to National Champions',\n",
       "  'Bio': 'David Englund is a lecturer in the department.  He came to the department with 16 years of teaching experience, having taught Principles of Microeconomics, Principles of Macroeconomics, Money and Banking, Consumer Behavior, Selected Topics in Business, and several other classes.  He also had 10 years’ experience advising student NAMA chapters, having been awarded the Outstanding Advisor of the Year for a Developing Chapter in 2002, and the Outstanding Advisor of the Year award in 2009.\\nDavid primarily teaches Survey of Economics, Principles of Microeconomics, Skills for Academic Success, Agricultural Marketing, and NAMA (co-teaches).  He joined the NAMA team in the 2014-2015 school year as a co-advisor and helped coach the student team to a 3rd place finish in the national student marketing plan competition at the national conference.\\nSome of David’s outside interests are jogging, photography, and writing fiction novels.  His latest release, Camouflaged Encounters has received positive reviews.'},\n",
       " 'Erik Hanson': {'Website': 'https://www.ndsu.edu/agecon/faculty/hanson/#c622905',\n",
       "  'Areas of Specialization': 'Ag Management, Ag Finance',\n",
       "  'Bio': 'Erik Hanson is an Assistant Professor in the Department of Agricultural and Applied Economics. He teaches courses on agribusiness management and agricultural finance. Erik completed his Ph.D. at the University of Minnesota in 2016. Prior to that, Erik completed a master’s degree at the University of Illinois (2013) and a bachelor’s degree at Minnesota State University in Moorhead (2011).'},\n",
       " 'Xudong Rao': {'Website': 'https://www.ndsu.edu/agecon/faculty/rao/',\n",
       "  'Areas of Specialization': 'Farm and Agribusiness Management, Risk Analysis, Efficiency and Productivity, Technology Adoption, Food and Agricultural Policy, International Agricultural Development',\n",
       "  'Bio': 'Assistant Professor, Department of Agribusiness and Applied Economics, North Dakota State University, 2019 – Present'},\n",
       " 'Robert Hearne': {'Website': 'https://www.ndsu.edu/agecon/faculty/hearne/#c622909',\n",
       "  'Areas of Specialization': 'Water resources management institutions, water markets, protected area management, and the economic valuation of environmental goods and services. He has professional experience in Europe, Asia, Latin America, and Asia',\n",
       "  'Bio': 'Dr. Bob Hearne has been in the Department of Agribusiness and Applied Economics since 2002'},\n",
       " 'Jeremy Jackson': {'Website': 'https://www.ndsu.edu/centers/pcpe/about/directory/jeremy_jackson/',\n",
       "  'Areas of Specialization': 'His research covers diverse topics, including public choice and the political economy; the social consequences of economic freedom; happiness and well-being; and philanthropy and nonprofits. His research has been published in Applied Economics, The Independent Review, Public Choice, Contemporary Economic Policy, Journal of Happiness Studies, and other refereed and non-refereed sources.',\n",
       "  'Bio': 'Jeremy Jackson is the director of the NDSU Center for the Study of Public Choice and Private Enterprise (PCPE) and a professor in the NDSU Department of Agribusiness and Applied Economics. He teaches undergraduate and graduate courses in the areas of microeconomics, public economics, and game theory and strategy. He is a member of the Foundation for Economic Education Faculty Network, American Economic Association, Association of Private Enterprise Education, Omnicron Delta Epsilon, Public Choice Society, and Association for Public Economic Theory. Jeremy resides in Fargo with his wife, Dr. Elizabeth Crawford, and their two sons.'},\n",
       " 'Siew Lim': {'Website': 'https://www.ndsu.edu/agecon/faculty/lim/',\n",
       "  'Areas of Specialization': 'Her current research is in applied microeconomics, production economics, industrial organization, transportation and regional development. Her recent research works include transportation and  regional development.',\n",
       "  'Bio': 'Siew Hoon Lim is an associate professor of economics.'}}"
      ]
     },
     "execution_count": 32,
     "metadata": {},
     "output_type": "execute_result"
    }
   ],
   "source": [
    "faculty_dict = {\"William Nganje\": {\"Website\": \"https://www.ndsu.edu/agecon/faculty/william_nganje/#c622350\",\n",
    "                                  \"Areas of Specialization\": \"Risk management; financial analysis; economics of obesity, food safety and food terrorism; experimental economics; and consumer choice theory\",\n",
    "                                   \"Bio\": \"NA\"},\n",
    "                \"David Bulluck\": {\"Website\": \"https://www.ndsu.edu/agecon/faculty/bullock/#c622728\",\n",
    "                                  \"Areas of Specialization\":\"futures and options markets, over-the-counter derivatives, trading, risk management, agrifinance, Monte Carlo simulation, and Big Data\",\n",
    "                                  \"Bio\":\"Dr. David W. Bullock is a Research Associate Professor affiliated with the Center for Trading and Risk at NDSU.  His research interests include futures and options markets, over-the-counter derivatives, trading, risk management, agrifinance, Monte Carlo simulation, and Big Data applications in agriculture.  His academic research in option portfolio theory has been published in both the Journal of Economics and Business and the International Review of Economics and Finance.  Additionally, he was the primary contributor behind the AgriBank Insights publication series which won a National AgriMarketing Association (NAMA) award for the best company publication in 2016. Before coming to NDSU in January 2018, Dr. Bullock held numerous positions for over 25 years in the government and private sectors including the Senior Economist at AgriBank FCB – the regional Farm Credit System funding bank for the Upper Midwest region, Director of Research and Senior Foods Economist at Fortune 500 commodity risk management firm INTL FCStone Inc., the Senior Dairy Analyst at Informa Economics, a Risk Management Specialist with the Minnesota Department of Agriculture, and the Senior Economist at the Minneapolis Grain Exchange. David began his academic career as an Assistant Professor and Extension Marketing Economist at Montana State University after graduating from Iowa State University with a Ph.D. in agricultural economics with fields in agricultural price analysis and econometrics in 1989.  Prior to entering ISU, he received bachelor’s (1982) and master’s (1984) degrees in agricultural economics from Northwest Missouri State University. Dr. Bullock is originally from the small northwestern Missouri farming community of Lathrop which is located 40 miles north of the Kansas City metropolitan area.  While in high school, he served as a regional state Vice-President in the Future Farmers of America (FFA) during his senior year.\"},\n",
    "               \"James Caton\": {\"Website\":\"https://www.ndsu.edu/centers/pcpe/about/directory/james_caton/\",\n",
    "                                 \"Areas of Specialization\": \"Entrepreneurship, Institutions, Macroeconomics, Computation\",\n",
    "                                 \"Bio\":\"James Caton is a faculty fellow at the NDSU Center for the Study of Public Choice and Private Enterprise (PCPE) and an assistant professor in the NDSU Department of Agribusiness and Applied Economics. He teaches undergraduate courses in the areas of macroeconomics, international trade, and computation. He specializes in research related to entrepreneurship, agent-based computational economics, market process theory, and monetary economics. His research has been published in the Southern Economic Journal, Erasmus Journal for Philosophy and Economics, Journal of Entrepreneurship and Public Policy and other academic publications. He co-edited Macroeconomics, a two volume set of essays and primary sources that represent the core of macroeconomic thought. He is also a regular contributor to the American Institute for Economic Research's Sound Money Project, which conducts research and promotes awareness about monetary stability and financial privacy. He resides in Fargo with his wife, Ingrid, and their children.\"},\n",
    "                 \"David Englund\": {\"Website\":\"https://www.ndsu.edu/agecon/faculty/englund/#c622903\",\n",
    "                                 \"Areas of Specialization\": \"Teaches Economic Principles, Led NDSU NAMA to National Champions\",\n",
    "                                 \"Bio\":\"David Englund is a lecturer in the department.  He came to the department with 16 years of teaching experience, having taught Principles of Microeconomics, Principles of Macroeconomics, Money and Banking, Consumer Behavior, Selected Topics in Business, and several other classes.  He also had 10 years’ experience advising student NAMA chapters, having been awarded the Outstanding Advisor of the Year for a Developing Chapter in 2002, and the Outstanding Advisor of the Year award in 2009.\\nDavid primarily teaches Survey of Economics, Principles of Microeconomics, Skills for Academic Success, Agricultural Marketing, and NAMA (co-teaches).  He joined the NAMA team in the 2014-2015 school year as a co-advisor and helped coach the student team to a 3rd place finish in the national student marketing plan competition at the national conference.\\nSome of David’s outside interests are jogging, photography, and writing fiction novels.  His latest release, Camouflaged Encounters has received positive reviews.\"},\n",
    "                 \"Erik Hanson\": {\"Website\":\"https://www.ndsu.edu/agecon/faculty/hanson/#c622905\",\n",
    "                                 \"Areas of Specialization\": \"Ag Management, Ag Finance\",\n",
    "                                 \"Bio\":\"Erik Hanson is an Assistant Professor in the Department of Agricultural and Applied Economics. He teaches courses on agribusiness management and agricultural finance. Erik completed his Ph.D. at the University of Minnesota in 2016. Prior to that, Erik completed a master’s degree at the University of Illinois (2013) and a bachelor’s degree at Minnesota State University in Moorhead (2011).\"},\n",
    "               \"Xudong Rao\": {\"Website\":\"https://www.ndsu.edu/agecon/faculty/rao/\",\n",
    "                                 \"Areas of Specialization\": \"Farm and Agribusiness Management, Risk Analysis, Efficiency and Productivity, Technology Adoption, Food and Agricultural Policy, International Agricultural Development\",\n",
    "                                 \"Bio\":\"Assistant Professor, Department of Agribusiness and Applied Economics, North Dakota State University, 2019 – Present\"},\n",
    "                 \"Robert Hearne\": {\"Website\":\"https://www.ndsu.edu/agecon/faculty/hearne/#c622909\",\n",
    "                                 \"Areas of Specialization\": \"Water resources management institutions, water markets, protected area management, and the economic valuation of environmental goods and services. He has professional experience in Europe, Asia, Latin America, and Asia\",\n",
    "                                 \"Bio\":\"Dr. Bob Hearne has been in the Department of Agribusiness and Applied Economics since 2002\"},\n",
    "                 \"Jeremy Jackson\": {\"Website\":\"https://www.ndsu.edu/centers/pcpe/about/directory/jeremy_jackson/\",\n",
    "                                 \"Areas of Specialization\": \"His research covers diverse topics, including public choice and the political economy; the social consequences of economic freedom; happiness and well-being; and philanthropy and nonprofits. His research has been published in Applied Economics, The Independent Review, Public Choice, Contemporary Economic Policy, Journal of Happiness Studies, and other refereed and non-refereed sources.\",\n",
    "                                 \"Bio\":\"Jeremy Jackson is the director of the NDSU Center for the Study of Public Choice and Private Enterprise (PCPE) and a professor in the NDSU Department of Agribusiness and Applied Economics. He teaches undergraduate and graduate courses in the areas of microeconomics, public economics, and game theory and strategy. He is a member of the Foundation for Economic Education Faculty Network, American Economic Association, Association of Private Enterprise Education, Omnicron Delta Epsilon, Public Choice Society, and Association for Public Economic Theory. Jeremy resides in Fargo with his wife, Dr. Elizabeth Crawford, and their two sons.\"},\n",
    "                 \"James Caton\": {\"Website\":\"https://www.ndsu.edu/centers/pcpe/about/directory/james_caton/\",\n",
    "                                 \"Areas of Specialization\": \"He specializes in research related to entrepreneurship, agent-based computational economics, market process theory, and monetary economics\",\n",
    "                                 \"Bio\":\"He is a faculty fellow at the NDSU Center for the Study of Public Choice and Private Enterprise (PCPE) and an assistant professor in the NDSU Department of Agribusiness and Applied Economics. He teaches undergraduate courses in the areas of macroeconomics, international trade, and computation.\"},\n",
    "                 \"Siew Lim\": {\"Website\":\"https://www.ndsu.edu/agecon/faculty/lim/\",\n",
    "                                 \"Areas of Specialization\": \"Her current research is in applied microeconomics, production economics, industrial organization, transportation and regional development. Her recent research works include transportation and  regional development.\",\n",
    "                                 \"Bio\":\"Siew Hoon Lim is an associate professor of economics.\"}\n",
    "               }\n",
    "\n",
    "\n",
    "\n",
    "faculty_dict\n",
    "\n",
    "               \n",
    "               \n",
    "               \n",
    "               "
   ]
  },
  {
   "cell_type": "markdown",
   "metadata": {},
   "source": [
    "**Save the dictionary as a dataframe, pass the dictionary to pd.Dataframe()**"
   ]
  },
  {
   "cell_type": "code",
   "execution_count": 38,
   "metadata": {},
   "outputs": [
    {
     "data": {
      "text/html": [
       "<div>\n",
       "<style scoped>\n",
       "    .dataframe tbody tr th:only-of-type {\n",
       "        vertical-align: middle;\n",
       "    }\n",
       "\n",
       "    .dataframe tbody tr th {\n",
       "        vertical-align: top;\n",
       "    }\n",
       "\n",
       "    .dataframe thead th {\n",
       "        text-align: right;\n",
       "    }\n",
       "</style>\n",
       "<table border=\"1\" class=\"dataframe\">\n",
       "  <thead>\n",
       "    <tr style=\"text-align: right;\">\n",
       "      <th></th>\n",
       "      <th>William Nganje</th>\n",
       "      <th>David Bulluck</th>\n",
       "      <th>James Caton</th>\n",
       "      <th>David Englund</th>\n",
       "      <th>Erik Hanson</th>\n",
       "      <th>Xudong Rao</th>\n",
       "      <th>Robert Hearne</th>\n",
       "      <th>Jeremy Jackson</th>\n",
       "      <th>Siew Lim</th>\n",
       "    </tr>\n",
       "  </thead>\n",
       "  <tbody>\n",
       "    <tr>\n",
       "      <th>Website</th>\n",
       "      <td>https://www.ndsu.edu/agecon/faculty/william_ng...</td>\n",
       "      <td>https://www.ndsu.edu/agecon/faculty/bullock/#c...</td>\n",
       "      <td>https://www.ndsu.edu/centers/pcpe/about/direct...</td>\n",
       "      <td>https://www.ndsu.edu/agecon/faculty/englund/#c...</td>\n",
       "      <td>https://www.ndsu.edu/agecon/faculty/hanson/#c6...</td>\n",
       "      <td>https://www.ndsu.edu/agecon/faculty/rao/</td>\n",
       "      <td>https://www.ndsu.edu/agecon/faculty/hearne/#c6...</td>\n",
       "      <td>https://www.ndsu.edu/centers/pcpe/about/direct...</td>\n",
       "      <td>https://www.ndsu.edu/agecon/faculty/lim/</td>\n",
       "    </tr>\n",
       "    <tr>\n",
       "      <th>Areas of Specialization</th>\n",
       "      <td>Risk management; financial analysis; economics...</td>\n",
       "      <td>futures and options markets, over-the-counter ...</td>\n",
       "      <td>He specializes in research related to entrepre...</td>\n",
       "      <td>Teaches Economic Principles, Led NDSU NAMA to ...</td>\n",
       "      <td>Ag Management, Ag Finance</td>\n",
       "      <td>Farm and Agribusiness Management, Risk Analysi...</td>\n",
       "      <td>Water resources management institutions, water...</td>\n",
       "      <td>His research covers diverse topics, including ...</td>\n",
       "      <td>Her current research is in applied microeconom...</td>\n",
       "    </tr>\n",
       "    <tr>\n",
       "      <th>Bio</th>\n",
       "      <td>NA</td>\n",
       "      <td>Dr. David W. Bullock is a Research Associate P...</td>\n",
       "      <td>He is a faculty fellow at the NDSU Center for ...</td>\n",
       "      <td>David Englund is a lecturer in the department....</td>\n",
       "      <td>Erik Hanson is an Assistant Professor in the D...</td>\n",
       "      <td>Assistant Professor, Department of Agribusines...</td>\n",
       "      <td>Dr. Bob Hearne has been in the Department of A...</td>\n",
       "      <td>Jeremy Jackson is the director of the NDSU Cen...</td>\n",
       "      <td>Siew Hoon Lim is an associate professor of eco...</td>\n",
       "    </tr>\n",
       "  </tbody>\n",
       "</table>\n",
       "</div>"
      ],
      "text/plain": [
       "                                                            William Nganje  \\\n",
       "Website                  https://www.ndsu.edu/agecon/faculty/william_ng...   \n",
       "Areas of Specialization  Risk management; financial analysis; economics...   \n",
       "Bio                                                                     NA   \n",
       "\n",
       "                                                             David Bulluck  \\\n",
       "Website                  https://www.ndsu.edu/agecon/faculty/bullock/#c...   \n",
       "Areas of Specialization  futures and options markets, over-the-counter ...   \n",
       "Bio                      Dr. David W. Bullock is a Research Associate P...   \n",
       "\n",
       "                                                               James Caton  \\\n",
       "Website                  https://www.ndsu.edu/centers/pcpe/about/direct...   \n",
       "Areas of Specialization  He specializes in research related to entrepre...   \n",
       "Bio                      He is a faculty fellow at the NDSU Center for ...   \n",
       "\n",
       "                                                             David Englund  \\\n",
       "Website                  https://www.ndsu.edu/agecon/faculty/englund/#c...   \n",
       "Areas of Specialization  Teaches Economic Principles, Led NDSU NAMA to ...   \n",
       "Bio                      David Englund is a lecturer in the department....   \n",
       "\n",
       "                                                               Erik Hanson  \\\n",
       "Website                  https://www.ndsu.edu/agecon/faculty/hanson/#c6...   \n",
       "Areas of Specialization                          Ag Management, Ag Finance   \n",
       "Bio                      Erik Hanson is an Assistant Professor in the D...   \n",
       "\n",
       "                                                                Xudong Rao  \\\n",
       "Website                           https://www.ndsu.edu/agecon/faculty/rao/   \n",
       "Areas of Specialization  Farm and Agribusiness Management, Risk Analysi...   \n",
       "Bio                      Assistant Professor, Department of Agribusines...   \n",
       "\n",
       "                                                             Robert Hearne  \\\n",
       "Website                  https://www.ndsu.edu/agecon/faculty/hearne/#c6...   \n",
       "Areas of Specialization  Water resources management institutions, water...   \n",
       "Bio                      Dr. Bob Hearne has been in the Department of A...   \n",
       "\n",
       "                                                            Jeremy Jackson  \\\n",
       "Website                  https://www.ndsu.edu/centers/pcpe/about/direct...   \n",
       "Areas of Specialization  His research covers diverse topics, including ...   \n",
       "Bio                      Jeremy Jackson is the director of the NDSU Cen...   \n",
       "\n",
       "                                                                  Siew Lim  \n",
       "Website                           https://www.ndsu.edu/agecon/faculty/lim/  \n",
       "Areas of Specialization  Her current research is in applied microeconom...  \n",
       "Bio                      Siew Hoon Lim is an associate professor of eco...  "
      ]
     },
     "execution_count": 38,
     "metadata": {},
     "output_type": "execute_result"
    }
   ],
   "source": [
    "faculty_df = pd.DataFrame(faculty_dict)\n",
    "faculty_df.to_csv(\"NDSUAAEFacultyInfo.csv\")\n",
    "faculty_df"
   ]
  }
 ],
 "metadata": {
  "kernelspec": {
   "display_name": "Python 3",
   "language": "python",
   "name": "python3"
  },
  "language_info": {
   "codemirror_mode": {
    "name": "ipython",
    "version": 3
   },
   "file_extension": ".py",
   "mimetype": "text/x-python",
   "name": "python",
   "nbconvert_exporter": "python",
   "pygments_lexer": "ipython3",
   "version": "3.8.3"
  }
 },
 "nbformat": 4,
 "nbformat_minor": 4
}
